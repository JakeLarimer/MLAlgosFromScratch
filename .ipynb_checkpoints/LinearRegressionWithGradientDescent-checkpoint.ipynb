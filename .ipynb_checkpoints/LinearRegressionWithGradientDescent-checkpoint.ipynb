{
 "cells": [
  {
   "cell_type": "code",
   "execution_count": 3,
   "id": "5bef345f-4265-4384-b219-df2ccf391587",
   "metadata": {},
   "outputs": [],
   "source": [
    "import numpy as np\n",
    "import matplotlib.pyplot as plt"
   ]
  },
  {
   "cell_type": "markdown",
   "id": "fea292c1-775f-4276-be9f-6c71524042d6",
   "metadata": {},
   "source": [
    "http://ufldl.stanford.edu/tutorial/supervised/LinearRegression/\n",
    "https://www.youtube.com/watch?v=YS_EztqZCD8\n"
   ]
  },
  {
   "cell_type": "code",
   "execution_count": null,
   "id": "bd056c31-69cb-4857-a99c-b5f537bb6db7",
   "metadata": {},
   "outputs": [],
   "source": []
  }
 ],
 "metadata": {
  "kernelspec": {
   "display_name": "Python 3 (ipykernel)",
   "language": "python",
   "name": "python3"
  },
  "language_info": {
   "codemirror_mode": {
    "name": "ipython",
    "version": 3
   },
   "file_extension": ".py",
   "mimetype": "text/x-python",
   "name": "python",
   "nbconvert_exporter": "python",
   "pygments_lexer": "ipython3",
   "version": "3.12.5"
  }
 },
 "nbformat": 4,
 "nbformat_minor": 5
}
