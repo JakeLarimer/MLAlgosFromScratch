{
 "cells": [
  {
   "cell_type": "markdown",
   "id": "78769aaf",
   "metadata": {},
   "source": [
    "# Gradient Descent Applied To Linear Regression"
   ]
  },
  {
   "cell_type": "markdown",
   "id": "3a45a726",
   "metadata": {},
   "source": [
    "#### Sources:\n",
    "\n",
    "http://ufldl.stanford.edu/tutorial/supervised/LinearRegression/\n",
    "https://www.youtube.com/watch?v=YS_EztqZCD8\n"
   ]
  },
  {
   "cell_type": "markdown",
   "id": "d1fc448e",
   "metadata": {},
   "source": [
    "#### Introduction\n",
    "\n",
    "Gradient descent is a method used to train a variety of machine learning algorithms. In this notebook, we will use a few common gradient descent varients to perform linear regression, and explore how gradient descent works. Although linear regression has a closed form solution (I go through that here [MultipleLinear+PolynomialRegression](https://github.com/JakeLarimer/MLAlgosFromScratch/blob/main/MultipleLinearRegression%2BPolynomialRegression.ipynb)), other algorithms often do not, requiring gradient descent to learn."
   ]
  },
  {
   "cell_type": "code",
   "execution_count": 1,
   "id": "798f21fb",
   "metadata": {},
   "outputs": [],
   "source": [
    "import numpy as np\n",
    "import matplotlib.pyplot as plt"
   ]
  },
  {
   "cell_type": "markdown",
   "id": "343d43f2",
   "metadata": {},
   "source": []
  },
  {
   "cell_type": "markdown",
   "id": "fea292c1-775f-4276-be9f-6c71524042d6",
   "metadata": {},
   "source": []
  }
 ],
 "metadata": {
  "kernelspec": {
   "display_name": "base",
   "language": "python",
   "name": "python3"
  },
  "language_info": {
   "codemirror_mode": {
    "name": "ipython",
    "version": 3
   },
   "file_extension": ".py",
   "mimetype": "text/x-python",
   "name": "python",
   "nbconvert_exporter": "python",
   "pygments_lexer": "ipython3",
   "version": "3.12.10"
  }
 },
 "nbformat": 4,
 "nbformat_minor": 5
}
