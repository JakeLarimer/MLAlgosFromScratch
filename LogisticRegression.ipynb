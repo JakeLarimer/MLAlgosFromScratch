{
 "cells": [
  {
   "cell_type": "markdown",
   "id": "5e9c6eef",
   "metadata": {},
   "source": [
    "Logistic Regression"
   ]
  },
  {
   "cell_type": "markdown",
   "id": "3de48c71",
   "metadata": {},
   "source": [
    "Sources:\n",
    "\n",
    "https://www.stat.purdue.edu/~zhanghao/MAS/handout/Likelihood.pdf\n",
    "https://www.kdnuggets.com/2022/11/comparing-linear-logistic-regression.html\n",
    "https://math.unm.edu/~schrader/biostat/bio1/notes/lecture15.pdf\n",
    "https://online.stat.psu.edu/stat501/lesson/13/13.2\n",
    "https://www.geeksforgeeks.org/data-science/likelihood-function/\n",
    "https://medium.com/@robdelacruz/logistic-regression-from-scratch-7db690fb380b\n",
    "https://medium.com/@nicolasanti_43152/ml-loss-and-likelihood-e0a5ff4ae594"
   ]
  },
  {
   "cell_type": "markdown",
   "id": "33e23deb",
   "metadata": {},
   "source": [
    "For binary data $y\\in\\{0, 1\\}$ with $\\pi=p(y=1)$ and $1-\\pi=p(y=0)$, the probability mass function (pmf) is:\n",
    "\n",
    "$$\n",
    "p(y, \\pi) = \\pi^y(1-\\pi)^{1-y}\n",
    "$$\n",
    "\n",
    "This is commonly reffered to as a \"Bernoulli Distribution\".\n",
    "\n",
    "Given m predictors represented by column vectors, and n samples, we can arrange our predictors into an m x n matrix $X$. For cleanliness, we can make the first column vecor of $X$, $x_0$ filled with $1$s to be used for the intercept. Let's assume we can relate $p(y)$ to $X$ using the below:\n",
    "\n",
    "$$\n",
    "\\log(\\frac{p}{1-p})=\\sum_{j=1}^m x_j \\theta_j=X\\Theta \\quad \\xrightarrow{} \\quad p = \\frac{e^{\\Theta\\mathbf{X}}}{1 + e^{\\Theta\\mathbf{X}}}\n",
    "$$\n",
    "\n",
    "where $\\Theta$ is the paremter vector, and thus any $\\theta_j$ is a given scalar parameter corresponding to a predictor column vector $x_j$.\n",
    "\n",
    "\n",
    "For intuition, note that\n",
    "\n",
    "$$\n",
    "\\lim_{p\\xrightarrow{}1}\\log(\\frac{p}{1-p})=+\\infty\n",
    "$$\n",
    "\n",
    "and \n",
    "\n",
    "$$\n",
    "\\lim_{p\\xrightarrow{}0}\\log(\\frac{p}{1-p})=-\\infty\n",
    "$$\n",
    "\n",
    "so simply put, when $\\mathbf{X}\\Theta$ is large, it indicates a high probability that $y=1$, and when very negative, a high probability that $y=0$.\n",
    "\n",
    "######\n",
    "\n",
    "\n"
   ]
  },
  {
   "cell_type": "markdown",
   "id": "a15d9702",
   "metadata": {},
   "source": [
    "Now, let's introduce something called the \"Likelihood Function\":\n",
    "It is defined as the likelihood of the parameters given the data.\n",
    "\n",
    "This can be a bit unintuitive if you are not used to a discrete codomain, as for continuous variables, the likelihood of exact p\n",
    "\n",
    "\n",
    "So, the likelihood for a binary logistic classification given n samples follows the below:\n",
    "\n",
    "$$\n",
    "L(\\theta | \\mathbf{X}, \\mathbf{y})=\\prod_{i=1}^n p(y_i, \\pi_i) = \\prod_{i=1}^n \\pi_i^{y_i}(1-\\pi_i)^{1-y_i}\n",
    "$$\n",
    "\n",
    "$$\n",
    "=\\prod_{i=1}^n \\frac{e^{\\alpha + \\boldsymbol{\\beta}\\mathbf{X}}}{1 + e^{\\alpha + \\boldsymbol{\\beta}\\mathbf{X}}}\n",
    "$$\n",
    "\n",
    "\n",
    "And thus the Log-Likelihood:\n",
    "\n",
    "$$\n",
    "\\log L(\\theta) = \\sum_{i=0}^n\\log(p_i, \\theta)=\\sum_{i=1}^nx_i\\log(\\theta)+\\sum_{i=1}^n(1-x_i)\\log(1-\\theta)\n",
    "$$\n",
    "\n",
    "$$\n",
    "\\hat{\\theta}=\\sum\\frac{x_i}{n}\n",
    "$$\n",
    "\n",
    "\n",
    "When we find a maximum of the Log-Likelihood function, we have determined the values of $\\theta$ that maximizes the probability of the observed data."
   ]
  },
  {
   "cell_type": "code",
   "execution_count": 1,
   "id": "4abaef99",
   "metadata": {},
   "outputs": [],
   "source": [
    "import numpy as np\n",
    "import matplotlib.pyplot as plt"
   ]
  },
  {
   "cell_type": "code",
   "execution_count": 4,
   "id": "4fd0a3d9",
   "metadata": {},
   "outputs": [
    {
     "name": "stderr",
     "output_type": "stream",
     "text": [
      "C:\\Users\\jakec\\AppData\\Local\\Temp\\ipykernel_26780\\2898193673.py:6: RuntimeWarning: divide by zero encountered in log\n",
      "  logL.append(sum(x * np.log(th)))\n"
     ]
    },
    {
     "data": {
      "text/plain": [
       "Text(0.5, 1.0, 'Log Likelihood For x=1')"
      ]
     },
     "execution_count": 4,
     "metadata": {},
     "output_type": "execute_result"
    },
    {
     "data": {
      "image/png": "[encoded data removed]",
      "text/plain": [
       "<Figure size 640x480 with 1 Axes>"
      ]
     },
     "metadata": {},
     "output_type": "display_data"
    }
   ],
   "source": [
    "x = np.ones(50)\n",
    "theta = np.linspace(0, 1, 50)\n",
    "logL = []\n",
    "\n",
    "for th in theta:\n",
    "    logL.append(sum(x * np.log(th)))\n",
    "\n",
    "\n",
    "# print(sum(x @ np.log(theta)))\n",
    "plt.plot(theta, logL)\n",
    "plt.xlabel(\"theta\")\n",
    "plt.ylabel(\"logL(theta)\")\n",
    "plt.title(\"Log Likelihood For x=1\")"
   ]
  },
  {
   "cell_type": "code",
   "execution_count": null,
   "id": "6c84d444",
   "metadata": {},
   "outputs": [],
   "source": []
  },
  {
   "cell_type": "code",
   "execution_count": null,
   "id": "79804eb0",
   "metadata": {},
   "outputs": [],
   "source": []
  },
  {
   "cell_type": "code",
   "execution_count": null,
   "id": "54a32c93-de2e-40ce-8460-7d6ee54cc13a",
   "metadata": {},
   "outputs": [],
   "source": []
  }
 ],
 "metadata": {
  "kernelspec": {
   "display_name": "Python 3 (ipykernel)",
   "language": "python",
   "name": "python3"
  },
  "language_info": {
   "codemirror_mode": {
    "name": "ipython",
    "version": 3
   },
   "file_extension": ".py",
   "mimetype": "text/x-python",
   "name": "python",
   "nbconvert_exporter": "python",
   "pygments_lexer": "ipython3",
   "version": "3.12.5"
  }
 },
 "nbformat": 4,
 "nbformat_minor": 5
}
